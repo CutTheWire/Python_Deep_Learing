{
  "nbformat": 4,
  "nbformat_minor": 0,
  "metadata": {
    "colab": {
      "provenance": [],
      "authorship_tag": "ABX9TyOCAFWpL6LlOp17M+1kBG2+"
    },
    "kernelspec": {
      "name": "python3",
      "display_name": "Python 3"
    },
    "language_info": {
      "name": "python"
    }
  },
  "cells": [
    {
      "cell_type": "markdown",
      "source": [
        "#*import*\n"
      ],
      "metadata": {
        "id": "p8wjSVmZhsNR"
      }
    },
    {
      "cell_type": "code",
      "source": [
        "import pandas as pd\n",
        "import matplotlib.pyplot as plt\n",
        "print(pd.__version__)"
      ],
      "metadata": {
        "colab": {
          "base_uri": "https://localhost:8080/"
        },
        "id": "OhYX0fldhleM",
        "outputId": "ac2250ee-884a-4cc2-f771-a4da5e3fcef4"
      },
      "execution_count": 3,
      "outputs": [
        {
          "output_type": "stream",
          "name": "stdout",
          "text": [
            "2.0.3\n"
          ]
        }
      ]
    },
    {
      "cell_type": "code",
      "execution_count": 6,
      "metadata": {
        "id": "0bYxET2Lfhtb",
        "colab": {
          "base_uri": "https://localhost:8080/"
        },
        "outputId": "4cdd3d1c-75e6-48ec-95fd-f8f86e72ff31"
      },
      "outputs": [
        {
          "output_type": "stream",
          "name": "stdout",
          "text": [
            "[-3, 31, -11, 4, 0, 22, -2, -5, -25, -14]\n",
            "[-2, 32, -10, 5, 1, 23, -1, -4, -24, -13]\n"
          ]
        }
      ],
      "source": [
        "x = [-3,31,-11,4,0,22,-2,-5,-25,-14]\n",
        "y = [-2,32,-10,5,1,23,-1,-4,-24,-13]\n",
        "print(f'{x}\\n{y}')"
      ]
    }
  ]
}