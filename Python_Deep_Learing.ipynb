{
  "nbformat": 4,
  "nbformat_minor": 0,
  "metadata": {
    "colab": {
      "provenance": [],
      "authorship_tag": "ABX9TyONc5n/+9GnmvYoQ9AIbd57"
    },
    "kernelspec": {
      "name": "python3",
      "display_name": "Python 3"
    },
    "language_info": {
      "name": "python"
    }
  },
  "cells": [
    {
      "cell_type": "markdown",
      "source": [
        "##**Pandas Main**"
      ],
      "metadata": {
        "id": "-Zy_u2E5hvOk"
      }
    },
    {
      "cell_type": "markdown",
      "source": [
        "###*pandas import*"
      ],
      "metadata": {
        "id": "R66IASlXh7jw"
      }
    },
    {
      "cell_type": "code",
      "execution_count": null,
      "metadata": {
        "id": "jx8saZI4hm3R"
      },
      "outputs": [],
      "source": [
        "import pandas as pd\n",
        "print(pd.__version__)"
      ]
    },
    {
      "cell_type": "markdown",
      "source": [
        "###***Pandas.Series***\n",
        "\n",
        "1.    [1차원 구조의 *list*](https://colab.research.google.com/drive/1hHhGqN0zIAI6isdldb1gOvD_Xz97Okws#scrollTo=xY8Pia8lXtVd)\n",
        "2.    [*list()*   → *pandas.series()*](https://colab.research.google.com/drive/1hHhGqN0zIAI6isdldb1gOvD_Xz97Okws#scrollTo=iWe_Rm5UX3Tn)\n",
        "3.    [*pandas.series* 원소 추출](https://colab.research.google.com/drive/1hHhGqN0zIAI6isdldb1gOvD_Xz97Okws#scrollTo=Qsh6ko0ZYnMV)\n",
        "4.    [*tuple()*  → *pandas.series()*](https://colab.research.google.com/drive/1hHhGqN0zIAI6isdldb1gOvD_Xz97Okws#scrollTo=PQIHcNeFZdTc)\n"
      ],
      "metadata": {
        "id": "6ydSzBpmiEcB"
      }
    },
    {
      "cell_type": "markdown",
      "source": [
        "\n",
        "###***pandas.DataFrame***\n",
        "1.    [*dict() → pandas.DataFrame()*](https://colab.research.google.com/drive/1hHhGqN0zIAI6isdldb1gOvD_Xz97Okws#scrollTo=a427uYGpjUMm)\n",
        "2.    [*DataFrame columns*](https://colab.research.google.com/drive/1hHhGqN0zIAI6isdldb1gOvD_Xz97Okws#scrollTo=et24NUdMnQoK)\n",
        "3.    [*DataFrame index*](https://colab.research.google.com/drive/1hHhGqN0zIAI6isdldb1gOvD_Xz97Okws#scrollTo=pMesY2S0unv4)"
      ],
      "metadata": {
        "id": "xOS1NnnIz1X5"
      }
    },
    {
      "cell_type": "markdown",
      "source": [
        "###**machine learning.일차함수**\n",
        "1.    [데이터 전처리](https://colab.research.google.com/drive/1BgZzBxejLFdE4hhfdwuLj7n_LaPii_Jo#scrollTo=ILUzkMXhleeK)\n",
        "2.    [모델 학습](https://colab.research.google.com/drive/1BgZzBxejLFdE4hhfdwuLj7n_LaPii_Jo#scrollTo=tkIvCX4RlkxK)\n",
        "3.    [예측](https://colab.research.google.com/drive/1BgZzBxejLFdE4hhfdwuLj7n_LaPii_Jo#scrollTo=ND8-dwSrsU-Q)"
      ],
      "metadata": {
        "id": "DSIgdA1CgowE"
      }
    }
  ]
}